{
 "cells": [
  {
   "cell_type": "code",
   "execution_count": 1,
   "id": "be4fb30f",
   "metadata": {
    "ExecuteTime": {
     "end_time": "2022-01-17T05:00:55.689132Z",
     "start_time": "2022-01-17T05:00:54.211264Z"
    }
   },
   "outputs": [],
   "source": [
    "# Import dependencies and libaries\n",
    "import pandas as pd\n",
    "import matplotlib.pyplot as plt\n",
    "import numpy as np\n",
    "\n",
    "# Import postgresql keys with username & password on local host (5432)\n",
    "from postgresql_keys import user_name, pwd\n",
    "# Create a connection string progresql link for sqlalchemy \n",
    "progresql_link = \"postgresql://\" + user_name + \":\" + pwd + \"@localhost:5432/Employees_db\"\n",
    "\n",
    "from sqlalchemy import create_engine\n",
    "# Establish the postgresql database connection\n",
    "engine = create_engine(progresql_link)\n",
    "conn = engine.connect()\n",
    "\n",
    "import warnings\n",
    "warnings.filterwarnings(\"ignore\")"
   ]
  },
  {
   "cell_type": "code",
   "execution_count": 2,
   "id": "9393fdf7",
   "metadata": {
    "ExecuteTime": {
     "end_time": "2022-01-17T05:00:56.997366Z",
     "start_time": "2022-01-17T05:00:56.258215Z"
    }
   },
   "outputs": [
    {
     "data": {
      "text/html": [
       "<div>\n",
       "<style scoped>\n",
       "    .dataframe tbody tr th:only-of-type {\n",
       "        vertical-align: middle;\n",
       "    }\n",
       "\n",
       "    .dataframe tbody tr th {\n",
       "        vertical-align: top;\n",
       "    }\n",
       "\n",
       "    .dataframe thead th {\n",
       "        text-align: right;\n",
       "    }\n",
       "</style>\n",
       "<table border=\"1\" class=\"dataframe\">\n",
       "  <thead>\n",
       "    <tr style=\"text-align: right;\">\n",
       "      <th></th>\n",
       "      <th>emp_no</th>\n",
       "      <th>salary</th>\n",
       "    </tr>\n",
       "  </thead>\n",
       "  <tbody>\n",
       "    <tr>\n",
       "      <th>0</th>\n",
       "      <td>10001</td>\n",
       "      <td>60117</td>\n",
       "    </tr>\n",
       "    <tr>\n",
       "      <th>1</th>\n",
       "      <td>10002</td>\n",
       "      <td>65828</td>\n",
       "    </tr>\n",
       "    <tr>\n",
       "      <th>2</th>\n",
       "      <td>10003</td>\n",
       "      <td>40006</td>\n",
       "    </tr>\n",
       "    <tr>\n",
       "      <th>3</th>\n",
       "      <td>10004</td>\n",
       "      <td>40054</td>\n",
       "    </tr>\n",
       "    <tr>\n",
       "      <th>4</th>\n",
       "      <td>10005</td>\n",
       "      <td>78228</td>\n",
       "    </tr>\n",
       "  </tbody>\n",
       "</table>\n",
       "</div>"
      ],
      "text/plain": [
       "   emp_no  salary\n",
       "0   10001   60117\n",
       "1   10002   65828\n",
       "2   10003   40006\n",
       "3   10004   40054\n",
       "4   10005   78228"
      ]
     },
     "execution_count": 2,
     "metadata": {},
     "output_type": "execute_result"
    }
   ],
   "source": [
    "# Execute the query for all records in salaries table & show first few rows\n",
    "salaries = pd.read_sql(\"SELECT * FROM salaries\", conn)\n",
    "salaries.head()"
   ]
  },
  {
   "cell_type": "code",
   "execution_count": 3,
   "id": "c7d9cc3d",
   "metadata": {
    "ExecuteTime": {
     "end_time": "2022-01-17T05:00:57.831013Z",
     "start_time": "2022-01-17T05:00:57.657975Z"
    }
   },
   "outputs": [
    {
     "data": {
      "image/png": "[encoded data removed]",
      "text/plain": [
       "<Figure size 720x432 with 1 Axes>"
      ]
     },
     "metadata": {
      "needs_background": "light"
     },
     "output_type": "display_data"
    }
   ],
   "source": [
    "# Generate histogram to visualize the most common salary ranges for employees.\n",
    "\n",
    "# Set figsize\n",
    "plt.figure(figsize=(10,6))\n",
    "\n",
    "# Plot histogram\n",
    "plt.hist(salaries[\"salary\"], color=\"green\",edgecolor='black')\n",
    "\n",
    "# Label chart axises and title\n",
    "plt.title(\"Common Salary Range\", fontweight=\"bold\", fontsize=18)\n",
    "plt.xlabel(\"Salary Range\", fontsize=16)\n",
    "plt.ylabel(\"Count\", fontsize=16)\n",
    "\n",
    "# Show graph\n",
    "plt.show()"
   ]
  },
  {
   "cell_type": "code",
   "execution_count": 4,
   "id": "fa9a7b3f",
   "metadata": {
    "ExecuteTime": {
     "end_time": "2022-01-17T05:00:58.841861Z",
     "start_time": "2022-01-17T05:00:58.818855Z"
    }
   },
   "outputs": [
    {
     "data": {
      "text/html": [
       "<div>\n",
       "<style scoped>\n",
       "    .dataframe tbody tr th:only-of-type {\n",
       "        vertical-align: middle;\n",
       "    }\n",
       "\n",
       "    .dataframe tbody tr th {\n",
       "        vertical-align: top;\n",
       "    }\n",
       "\n",
       "    .dataframe thead th {\n",
       "        text-align: right;\n",
       "    }\n",
       "</style>\n",
       "<table border=\"1\" class=\"dataframe\">\n",
       "  <thead>\n",
       "    <tr style=\"text-align: right;\">\n",
       "      <th></th>\n",
       "      <th>title_id</th>\n",
       "      <th>title</th>\n",
       "    </tr>\n",
       "  </thead>\n",
       "  <tbody>\n",
       "    <tr>\n",
       "      <th>0</th>\n",
       "      <td>s0001</td>\n",
       "      <td>Staff</td>\n",
       "    </tr>\n",
       "    <tr>\n",
       "      <th>1</th>\n",
       "      <td>s0002</td>\n",
       "      <td>Senior Staff</td>\n",
       "    </tr>\n",
       "    <tr>\n",
       "      <th>2</th>\n",
       "      <td>e0001</td>\n",
       "      <td>Assistant Engineer</td>\n",
       "    </tr>\n",
       "    <tr>\n",
       "      <th>3</th>\n",
       "      <td>e0002</td>\n",
       "      <td>Engineer</td>\n",
       "    </tr>\n",
       "    <tr>\n",
       "      <th>4</th>\n",
       "      <td>e0003</td>\n",
       "      <td>Senior Engineer</td>\n",
       "    </tr>\n",
       "  </tbody>\n",
       "</table>\n",
       "</div>"
      ],
      "text/plain": [
       "  title_id               title\n",
       "0    s0001               Staff\n",
       "1    s0002        Senior Staff\n",
       "2    e0001  Assistant Engineer\n",
       "3    e0002            Engineer\n",
       "4    e0003     Senior Engineer"
      ]
     },
     "execution_count": 4,
     "metadata": {},
     "output_type": "execute_result"
    }
   ],
   "source": [
    "# Execute the query for all records in the titles table & show first few rows\n",
    "titles = pd.read_sql(\"SELECT * FROM titles\", conn)\n",
    "titles.head()"
   ]
  },
  {
   "cell_type": "code",
   "execution_count": 13,
   "id": "1f48966e",
   "metadata": {
    "ExecuteTime": {
     "end_time": "2022-01-17T05:01:42.742476Z",
     "start_time": "2022-01-17T05:01:41.483193Z"
    }
   },
   "outputs": [
    {
     "data": {
      "text/html": [
       "<div>\n",
       "<style scoped>\n",
       "    .dataframe tbody tr th:only-of-type {\n",
       "        vertical-align: middle;\n",
       "    }\n",
       "\n",
       "    .dataframe tbody tr th {\n",
       "        vertical-align: top;\n",
       "    }\n",
       "\n",
       "    .dataframe thead th {\n",
       "        text-align: right;\n",
       "    }\n",
       "</style>\n",
       "<table border=\"1\" class=\"dataframe\">\n",
       "  <thead>\n",
       "    <tr style=\"text-align: right;\">\n",
       "      <th></th>\n",
       "      <th>emp_no</th>\n",
       "      <th>emp_title_id</th>\n",
       "      <th>birth_date</th>\n",
       "      <th>first_name</th>\n",
       "      <th>last_name</th>\n",
       "      <th>sex</th>\n",
       "      <th>hire_date</th>\n",
       "    </tr>\n",
       "  </thead>\n",
       "  <tbody>\n",
       "    <tr>\n",
       "      <th>0</th>\n",
       "      <td>473302</td>\n",
       "      <td>s0001</td>\n",
       "      <td>1953-07-25</td>\n",
       "      <td>Hideyuki</td>\n",
       "      <td>Zallocco</td>\n",
       "      <td>M</td>\n",
       "      <td>1990-04-28</td>\n",
       "    </tr>\n",
       "    <tr>\n",
       "      <th>1</th>\n",
       "      <td>475053</td>\n",
       "      <td>e0002</td>\n",
       "      <td>1954-11-18</td>\n",
       "      <td>Byong</td>\n",
       "      <td>Delgrande</td>\n",
       "      <td>F</td>\n",
       "      <td>1991-09-07</td>\n",
       "    </tr>\n",
       "    <tr>\n",
       "      <th>2</th>\n",
       "      <td>57444</td>\n",
       "      <td>e0002</td>\n",
       "      <td>1958-01-30</td>\n",
       "      <td>Berry</td>\n",
       "      <td>Babb</td>\n",
       "      <td>F</td>\n",
       "      <td>1992-03-21</td>\n",
       "    </tr>\n",
       "    <tr>\n",
       "      <th>3</th>\n",
       "      <td>421786</td>\n",
       "      <td>s0001</td>\n",
       "      <td>1957-09-28</td>\n",
       "      <td>Xiong</td>\n",
       "      <td>Verhoeff</td>\n",
       "      <td>M</td>\n",
       "      <td>1987-11-26</td>\n",
       "    </tr>\n",
       "    <tr>\n",
       "      <th>4</th>\n",
       "      <td>282238</td>\n",
       "      <td>e0003</td>\n",
       "      <td>1952-10-28</td>\n",
       "      <td>Abdelkader</td>\n",
       "      <td>Baumann</td>\n",
       "      <td>F</td>\n",
       "      <td>1991-01-18</td>\n",
       "    </tr>\n",
       "  </tbody>\n",
       "</table>\n",
       "</div>"
      ],
      "text/plain": [
       "   emp_no emp_title_id  birth_date  first_name  last_name sex   hire_date\n",
       "0  473302        s0001  1953-07-25    Hideyuki   Zallocco   M  1990-04-28\n",
       "1  475053        e0002  1954-11-18       Byong  Delgrande   F  1991-09-07\n",
       "2   57444        e0002  1958-01-30       Berry       Babb   F  1992-03-21\n",
       "3  421786        s0001  1957-09-28       Xiong   Verhoeff   M  1987-11-26\n",
       "4  282238        e0003  1952-10-28  Abdelkader    Baumann   F  1991-01-18"
      ]
     },
     "execution_count": 13,
     "metadata": {},
     "output_type": "execute_result"
    }
   ],
   "source": [
    "# Execute the query for all records in the employees table & show first few rows\n",
    "employees = pd.read_sql(\"SELECT * FROM employees\", conn)\n",
    "employees.head()"
   ]
  },
  {
   "cell_type": "code",
   "execution_count": null,
   "id": "adca9f27",
   "metadata": {},
   "outputs": [],
   "source": [
    "# There are two methods of getting the average salary by employee title and plotting graph."
   ]
  },
  {
   "cell_type": "code",
   "execution_count": 6,
   "id": "946f0f4c",
   "metadata": {
    "ExecuteTime": {
     "end_time": "2022-01-17T05:01:01.973837Z",
     "start_time": "2022-01-17T05:01:01.825804Z"
    }
   },
   "outputs": [
    {
     "data": {
      "text/html": [
       "<div>\n",
       "<style scoped>\n",
       "    .dataframe tbody tr th:only-of-type {\n",
       "        vertical-align: middle;\n",
       "    }\n",
       "\n",
       "    .dataframe tbody tr th {\n",
       "        vertical-align: top;\n",
       "    }\n",
       "\n",
       "    .dataframe thead th {\n",
       "        text-align: right;\n",
       "    }\n",
       "</style>\n",
       "<table border=\"1\" class=\"dataframe\">\n",
       "  <thead>\n",
       "    <tr style=\"text-align: right;\">\n",
       "      <th></th>\n",
       "      <th>emp_no</th>\n",
       "      <th>title_id</th>\n",
       "      <th>birth_date</th>\n",
       "      <th>first_name</th>\n",
       "      <th>last_name</th>\n",
       "      <th>sex</th>\n",
       "      <th>hire_date</th>\n",
       "      <th>title</th>\n",
       "    </tr>\n",
       "  </thead>\n",
       "  <tbody>\n",
       "    <tr>\n",
       "      <th>0</th>\n",
       "      <td>473302</td>\n",
       "      <td>s0001</td>\n",
       "      <td>1953-07-25</td>\n",
       "      <td>Hideyuki</td>\n",
       "      <td>Zallocco</td>\n",
       "      <td>M</td>\n",
       "      <td>1990-04-28</td>\n",
       "      <td>Staff</td>\n",
       "    </tr>\n",
       "    <tr>\n",
       "      <th>1</th>\n",
       "      <td>421786</td>\n",
       "      <td>s0001</td>\n",
       "      <td>1957-09-28</td>\n",
       "      <td>Xiong</td>\n",
       "      <td>Verhoeff</td>\n",
       "      <td>M</td>\n",
       "      <td>1987-11-26</td>\n",
       "      <td>Staff</td>\n",
       "    </tr>\n",
       "    <tr>\n",
       "      <th>2</th>\n",
       "      <td>273487</td>\n",
       "      <td>s0001</td>\n",
       "      <td>1957-04-14</td>\n",
       "      <td>Christoph</td>\n",
       "      <td>Parfitt</td>\n",
       "      <td>M</td>\n",
       "      <td>1991-06-28</td>\n",
       "      <td>Staff</td>\n",
       "    </tr>\n",
       "    <tr>\n",
       "      <th>3</th>\n",
       "      <td>246449</td>\n",
       "      <td>s0001</td>\n",
       "      <td>1958-03-23</td>\n",
       "      <td>Subbu</td>\n",
       "      <td>Bultermann</td>\n",
       "      <td>F</td>\n",
       "      <td>1988-03-25</td>\n",
       "      <td>Staff</td>\n",
       "    </tr>\n",
       "    <tr>\n",
       "      <th>4</th>\n",
       "      <td>48085</td>\n",
       "      <td>s0001</td>\n",
       "      <td>1964-01-19</td>\n",
       "      <td>Venkatesan</td>\n",
       "      <td>Gilg</td>\n",
       "      <td>M</td>\n",
       "      <td>1993-06-28</td>\n",
       "      <td>Staff</td>\n",
       "    </tr>\n",
       "    <tr>\n",
       "      <th>...</th>\n",
       "      <td>...</td>\n",
       "      <td>...</td>\n",
       "      <td>...</td>\n",
       "      <td>...</td>\n",
       "      <td>...</td>\n",
       "      <td>...</td>\n",
       "      <td>...</td>\n",
       "      <td>...</td>\n",
       "    </tr>\n",
       "    <tr>\n",
       "      <th>300019</th>\n",
       "      <td>111400</td>\n",
       "      <td>m0001</td>\n",
       "      <td>1959-11-09</td>\n",
       "      <td>Arie</td>\n",
       "      <td>Staelin</td>\n",
       "      <td>M</td>\n",
       "      <td>1985-01-01</td>\n",
       "      <td>Manager</td>\n",
       "    </tr>\n",
       "    <tr>\n",
       "      <th>300020</th>\n",
       "      <td>111133</td>\n",
       "      <td>m0001</td>\n",
       "      <td>1955-03-16</td>\n",
       "      <td>Hauke</td>\n",
       "      <td>Zhang</td>\n",
       "      <td>M</td>\n",
       "      <td>1986-12-30</td>\n",
       "      <td>Manager</td>\n",
       "    </tr>\n",
       "    <tr>\n",
       "      <th>300021</th>\n",
       "      <td>110085</td>\n",
       "      <td>m0001</td>\n",
       "      <td>1959-10-28</td>\n",
       "      <td>Ebru</td>\n",
       "      <td>Alpin</td>\n",
       "      <td>M</td>\n",
       "      <td>1985-01-01</td>\n",
       "      <td>Manager</td>\n",
       "    </tr>\n",
       "    <tr>\n",
       "      <th>300022</th>\n",
       "      <td>110386</td>\n",
       "      <td>m0001</td>\n",
       "      <td>1953-10-04</td>\n",
       "      <td>Shem</td>\n",
       "      <td>Kieras</td>\n",
       "      <td>M</td>\n",
       "      <td>1988-10-14</td>\n",
       "      <td>Manager</td>\n",
       "    </tr>\n",
       "    <tr>\n",
       "      <th>300023</th>\n",
       "      <td>111784</td>\n",
       "      <td>m0001</td>\n",
       "      <td>1956-06-14</td>\n",
       "      <td>Marjo</td>\n",
       "      <td>Giarratana</td>\n",
       "      <td>F</td>\n",
       "      <td>1988-02-12</td>\n",
       "      <td>Manager</td>\n",
       "    </tr>\n",
       "  </tbody>\n",
       "</table>\n",
       "<p>300024 rows × 8 columns</p>\n",
       "</div>"
      ],
      "text/plain": [
       "        emp_no title_id  birth_date  first_name   last_name sex   hire_date  \\\n",
       "0       473302    s0001  1953-07-25    Hideyuki    Zallocco   M  1990-04-28   \n",
       "1       421786    s0001  1957-09-28       Xiong    Verhoeff   M  1987-11-26   \n",
       "2       273487    s0001  1957-04-14   Christoph     Parfitt   M  1991-06-28   \n",
       "3       246449    s0001  1958-03-23       Subbu  Bultermann   F  1988-03-25   \n",
       "4        48085    s0001  1964-01-19  Venkatesan        Gilg   M  1993-06-28   \n",
       "...        ...      ...         ...         ...         ...  ..         ...   \n",
       "300019  111400    m0001  1959-11-09        Arie     Staelin   M  1985-01-01   \n",
       "300020  111133    m0001  1955-03-16       Hauke       Zhang   M  1986-12-30   \n",
       "300021  110085    m0001  1959-10-28        Ebru       Alpin   M  1985-01-01   \n",
       "300022  110386    m0001  1953-10-04        Shem      Kieras   M  1988-10-14   \n",
       "300023  111784    m0001  1956-06-14       Marjo  Giarratana   F  1988-02-12   \n",
       "\n",
       "          title  \n",
       "0         Staff  \n",
       "1         Staff  \n",
       "2         Staff  \n",
       "3         Staff  \n",
       "4         Staff  \n",
       "...         ...  \n",
       "300019  Manager  \n",
       "300020  Manager  \n",
       "300021  Manager  \n",
       "300022  Manager  \n",
       "300023  Manager  \n",
       "\n",
       "[300024 rows x 8 columns]"
      ]
     },
     "execution_count": 6,
     "metadata": {},
     "output_type": "execute_result"
    }
   ],
   "source": [
    "# Method 1: Create a bar chart of average salary by title by using pandas to manipulate data\n",
    "employees = employees.rename(columns={\"emp_title_id\":\"title_id\"})\n",
    "\n",
    "# Merge the employees and the titles tables, & show some rows\n",
    "merge_df = []\n",
    "merge_df = pd.merge(employees, titles, on= \"title_id\", how = \"inner\")\n",
    "merge_df"
   ]
  },
  {
   "cell_type": "code",
   "execution_count": 7,
   "id": "22cbcb92",
   "metadata": {
    "ExecuteTime": {
     "end_time": "2022-01-17T05:01:02.942092Z",
     "start_time": "2022-01-17T05:01:02.747051Z"
    }
   },
   "outputs": [],
   "source": [
    "# Method 1 (cont.): appending more data to it by merging with the salaries table and calculate the mean of salaries\n",
    "merge_df = pd.merge(merge_df, salaries, on= \"emp_no\", how = \"inner\")\n",
    "\n",
    "# Calculate the mean of salary from the merged table\n",
    "pandas_merge_df = []\n",
    "pandas_merge_df = merge_df.groupby([\"title\"])[\"salary\"].mean().reset_index()\n",
    "pandas_merge_df = pandas_merge_df.rename(columns={\"salary\":\"average salary\"})"
   ]
  },
  {
   "cell_type": "code",
   "execution_count": 8,
   "id": "a1c796d0",
   "metadata": {
    "ExecuteTime": {
     "end_time": "2022-01-17T05:01:04.578805Z",
     "start_time": "2022-01-17T05:01:04.457963Z"
    }
   },
   "outputs": [
    {
     "data": {
      "image/png": "[encoded data removed]",
      "text/plain": [
       "<Figure size 720x432 with 1 Axes>"
      ]
     },
     "metadata": {
      "needs_background": "light"
     },
     "output_type": "display_data"
    }
   ],
   "source": [
    "# Method 1 (cont.): create a bar chart of the average salary by title from the merged pandas data frames\n",
    "x_axis = pandas_merge_df[\"title\"]\n",
    "ticks = np.arange(len(x_axis))\n",
    "y_axis = pandas_merge_df[\"average salary\"]\n",
    "\n",
    "# Set figsize\n",
    "plt.figure(figsize=(10,6))\n",
    "\n",
    "# Plot bar chart\n",
    "plt.bar(x_axis, y_axis, align=\"center\", edgecolor='black')\n",
    "\n",
    "# Label chart axises and title\n",
    "plt.title(\"Average Salary by Employee Title\", fontweight=\"bold\", fontsize=18)\n",
    "plt.xlabel(\"Employee Title\", fontsize=16)\n",
    "plt.ylabel(\"Salary\", fontsize=16)\n",
    "\n",
    "# Show graph\n",
    "plt.show()"
   ]
  },
  {
   "cell_type": "code",
   "execution_count": 9,
   "id": "8bb6fd59",
   "metadata": {
    "ExecuteTime": {
     "end_time": "2022-01-17T05:01:09.054214Z",
     "start_time": "2022-01-17T05:01:07.987014Z"
    }
   },
   "outputs": [
    {
     "data": {
      "text/html": [
       "<div>\n",
       "<style scoped>\n",
       "    .dataframe tbody tr th:only-of-type {\n",
       "        vertical-align: middle;\n",
       "    }\n",
       "\n",
       "    .dataframe tbody tr th {\n",
       "        vertical-align: top;\n",
       "    }\n",
       "\n",
       "    .dataframe thead th {\n",
       "        text-align: right;\n",
       "    }\n",
       "</style>\n",
       "<table border=\"1\" class=\"dataframe\">\n",
       "  <thead>\n",
       "    <tr style=\"text-align: right;\">\n",
       "      <th></th>\n",
       "      <th>title</th>\n",
       "      <th>avg</th>\n",
       "    </tr>\n",
       "  </thead>\n",
       "  <tbody>\n",
       "    <tr>\n",
       "      <th>0</th>\n",
       "      <td>Assistant Engineer</td>\n",
       "      <td>48615.074794</td>\n",
       "    </tr>\n",
       "    <tr>\n",
       "      <th>1</th>\n",
       "      <td>Engineer</td>\n",
       "      <td>48533.339845</td>\n",
       "    </tr>\n",
       "    <tr>\n",
       "      <th>2</th>\n",
       "      <td>Manager</td>\n",
       "      <td>51531.041667</td>\n",
       "    </tr>\n",
       "    <tr>\n",
       "      <th>3</th>\n",
       "      <td>Senior Engineer</td>\n",
       "      <td>48505.714313</td>\n",
       "    </tr>\n",
       "    <tr>\n",
       "      <th>4</th>\n",
       "      <td>Senior Staff</td>\n",
       "      <td>58557.394072</td>\n",
       "    </tr>\n",
       "    <tr>\n",
       "      <th>5</th>\n",
       "      <td>Staff</td>\n",
       "      <td>58460.049489</td>\n",
       "    </tr>\n",
       "    <tr>\n",
       "      <th>6</th>\n",
       "      <td>Technique Leader</td>\n",
       "      <td>48574.320997</td>\n",
       "    </tr>\n",
       "  </tbody>\n",
       "</table>\n",
       "</div>"
      ],
      "text/plain": [
       "                title           avg\n",
       "0  Assistant Engineer  48615.074794\n",
       "1            Engineer  48533.339845\n",
       "2             Manager  51531.041667\n",
       "3     Senior Engineer  48505.714313\n",
       "4        Senior Staff  58557.394072\n",
       "5               Staff  58460.049489\n",
       "6    Technique Leader  48574.320997"
      ]
     },
     "execution_count": 9,
     "metadata": {},
     "output_type": "execute_result"
    }
   ],
   "source": [
    "# Method 2.a: Create a bar chart of average salary by title by making direct call to postsql db view\n",
    "# Execute the agrregated query in all_employees_details view (created in pgAdmin) group by title \n",
    "# (with postgresql aggregate function) to calculate the average salary\n",
    "all_emp = []\n",
    "all_emp = pd.read_sql(\"SELECT title, AVG(salary) FROM all_employees_details GROUP BY title\", conn)\n",
    "all_emp"
   ]
  },
  {
   "cell_type": "code",
   "execution_count": 14,
   "id": "077c3bfc",
   "metadata": {
    "ExecuteTime": {
     "end_time": "2022-01-17T05:06:33.594140Z",
     "start_time": "2022-01-17T05:06:30.619195Z"
    }
   },
   "outputs": [
    {
     "data": {
      "text/html": [
       "<div>\n",
       "<style scoped>\n",
       "    .dataframe tbody tr th:only-of-type {\n",
       "        vertical-align: middle;\n",
       "    }\n",
       "\n",
       "    .dataframe tbody tr th {\n",
       "        vertical-align: top;\n",
       "    }\n",
       "\n",
       "    .dataframe thead th {\n",
       "        text-align: right;\n",
       "    }\n",
       "</style>\n",
       "<table border=\"1\" class=\"dataframe\">\n",
       "  <thead>\n",
       "    <tr style=\"text-align: right;\">\n",
       "      <th></th>\n",
       "      <th>title</th>\n",
       "      <th>salary</th>\n",
       "    </tr>\n",
       "  </thead>\n",
       "  <tbody>\n",
       "    <tr>\n",
       "      <th>0</th>\n",
       "      <td>Assistant Engineer</td>\n",
       "      <td>48615.074794</td>\n",
       "    </tr>\n",
       "    <tr>\n",
       "      <th>1</th>\n",
       "      <td>Engineer</td>\n",
       "      <td>48533.339845</td>\n",
       "    </tr>\n",
       "    <tr>\n",
       "      <th>2</th>\n",
       "      <td>Manager</td>\n",
       "      <td>51531.041667</td>\n",
       "    </tr>\n",
       "    <tr>\n",
       "      <th>3</th>\n",
       "      <td>Senior Engineer</td>\n",
       "      <td>48505.714313</td>\n",
       "    </tr>\n",
       "    <tr>\n",
       "      <th>4</th>\n",
       "      <td>Senior Staff</td>\n",
       "      <td>58557.394072</td>\n",
       "    </tr>\n",
       "    <tr>\n",
       "      <th>5</th>\n",
       "      <td>Staff</td>\n",
       "      <td>58460.049489</td>\n",
       "    </tr>\n",
       "    <tr>\n",
       "      <th>6</th>\n",
       "      <td>Technique Leader</td>\n",
       "      <td>48574.320997</td>\n",
       "    </tr>\n",
       "  </tbody>\n",
       "</table>\n",
       "</div>"
      ],
      "text/plain": [
       "                title        salary\n",
       "0  Assistant Engineer  48615.074794\n",
       "1            Engineer  48533.339845\n",
       "2             Manager  51531.041667\n",
       "3     Senior Engineer  48505.714313\n",
       "4        Senior Staff  58557.394072\n",
       "5               Staff  58460.049489\n",
       "6    Technique Leader  48574.320997"
      ]
     },
     "execution_count": 14,
     "metadata": {},
     "output_type": "execute_result"
    }
   ],
   "source": [
    "# Method 2.b: run a complicated query and joinning tables via postgresql server connection and then\n",
    "# calculate the average salary by using pandas groupby and mean.\n",
    "test_query = pd.read_sql(\"\"\"\n",
    "select employees.*, employment_details.dept_name, employee_info.salary, titles.title\n",
    "from employees \n",
    "inner join titles\n",
    "on employees.emp_title_id = titles.title_id\n",
    "inner join employment_details\n",
    "on employees.emp_no = employment_details.emp_no\n",
    "inner join employee_info\n",
    "on employees.emp_no = employee_info.emp_no;\"\"\",conn)\n",
    "test_query.head()\n",
    "\n",
    "# Calculate the average/mean\n",
    "average = test_query.groupby([\"title\"])[\"salary\"].mean().reset_index()\n",
    "average"
   ]
  },
  {
   "cell_type": "code",
   "execution_count": 15,
   "id": "dcef1fd8",
   "metadata": {
    "ExecuteTime": {
     "end_time": "2022-01-17T05:06:33.718725Z",
     "start_time": "2022-01-17T05:06:33.596128Z"
    }
   },
   "outputs": [
    {
     "data": {
      "image/png": "[encoded data removed]",
      "text/plain": [
       "<Figure size 720x432 with 1 Axes>"
      ]
     },
     "metadata": {
      "needs_background": "light"
     },
     "output_type": "display_data"
    }
   ],
   "source": [
    "# Method 2: Plot bar chart of average salary by employee title \n",
    "x_axis = all_emp[\"title\"]\n",
    "ticks = np.arange(len(x_axis))\n",
    "y_axis = all_emp[\"avg\"]\n",
    "\n",
    "# Set figsize\n",
    "plt.figure(figsize=(10,6))\n",
    "\n",
    "# Plot bar chart\n",
    "plt.bar(x_axis, y_axis, align=\"center\", color=[\"orange\",\"green\",\"red\",\"cyan\",\"magenta\",\"yellow\",\"blue\"],edgecolor='black')\n",
    "\n",
    "# Label chart axises and title\n",
    "plt.title(\"Average Salary by Employee Title\", fontweight=\"bold\", fontsize=18, font=\"Verdana\")\n",
    "plt.xticks(ticks, x_axis, rotation=\"vertical\")\n",
    "plt.xlabel(\"Employee Title\", fontsize=16)\n",
    "plt.ylabel(\"Salary\", fontsize=16)\n",
    "\n",
    "# Show graph\n",
    "plt.show()\n"
   ]
  },
  {
   "cell_type": "code",
   "execution_count": 16,
   "id": "7ce20d58",
   "metadata": {
    "ExecuteTime": {
     "end_time": "2022-01-17T05:06:34.653175Z",
     "start_time": "2022-01-17T05:06:34.586162Z"
    }
   },
   "outputs": [
    {
     "data": {
      "text/html": [
       "<div>\n",
       "<style scoped>\n",
       "    .dataframe tbody tr th:only-of-type {\n",
       "        vertical-align: middle;\n",
       "    }\n",
       "\n",
       "    .dataframe tbody tr th {\n",
       "        vertical-align: top;\n",
       "    }\n",
       "\n",
       "    .dataframe thead th {\n",
       "        text-align: right;\n",
       "    }\n",
       "</style>\n",
       "<table border=\"1\" class=\"dataframe\">\n",
       "  <thead>\n",
       "    <tr style=\"text-align: right;\">\n",
       "      <th></th>\n",
       "      <th>emp_no</th>\n",
       "      <th>emp_title_id</th>\n",
       "      <th>birth_date</th>\n",
       "      <th>first_name</th>\n",
       "      <th>last_name</th>\n",
       "      <th>sex</th>\n",
       "      <th>hire_date</th>\n",
       "      <th>dept_name</th>\n",
       "      <th>salary</th>\n",
       "      <th>title</th>\n",
       "    </tr>\n",
       "  </thead>\n",
       "  <tbody>\n",
       "    <tr>\n",
       "      <th>0</th>\n",
       "      <td>499942</td>\n",
       "      <td>e0004</td>\n",
       "      <td>1963-01-10</td>\n",
       "      <td>April</td>\n",
       "      <td>Foolsday</td>\n",
       "      <td>F</td>\n",
       "      <td>1997-02-10</td>\n",
       "      <td>Development</td>\n",
       "      <td>40000</td>\n",
       "      <td>Technique Leader</td>\n",
       "    </tr>\n",
       "  </tbody>\n",
       "</table>\n",
       "</div>"
      ],
      "text/plain": [
       "   emp_no emp_title_id  birth_date first_name last_name sex   hire_date  \\\n",
       "0  499942        e0004  1963-01-10      April  Foolsday   F  1997-02-10   \n",
       "\n",
       "     dept_name  salary             title  \n",
       "0  Development   40000  Technique Leader  "
      ]
     },
     "execution_count": 16,
     "metadata": {},
     "output_type": "execute_result"
    }
   ],
   "source": [
    "# Epilogue: find all the relevant details of the employee id 499942 by query directly to the postsql database\n",
    "employee_499942 = pd.read_sql(\"\"\"\n",
    "select employees.*, employment_details.dept_name, employee_info.salary, titles.title\n",
    "    from employees \n",
    "    inner join titles\n",
    "    on employees.emp_title_id = titles.title_id\n",
    "    inner join employment_details\n",
    "    on employees.emp_no = employment_details.emp_no\n",
    "    inner join employee_info\n",
    "    on employees.emp_no = employee_info.emp_no\n",
    "    where employees.emp_no = 499942\"\"\", conn)\n",
    "employee_499942"
   ]
  },
  {
   "cell_type": "code",
   "execution_count": null,
   "id": "f4ae6fd2",
   "metadata": {
    "ExecuteTime": {
     "end_time": "2022-01-17T04:54:58.700643Z",
     "start_time": "2022-01-17T04:54:58.686319Z"
    }
   },
   "outputs": [],
   "source": [
    "# Close postgresql database connection after the work is finished\n",
    "conn.close()"
   ]
  },
  {
   "cell_type": "code",
   "execution_count": null,
   "id": "6b265a65",
   "metadata": {},
   "outputs": [],
   "source": []
  }
 ],
 "metadata": {
  "kernelspec": {
   "display_name": "Python 3 (ipykernel)",
   "language": "python",
   "name": "python3"
  },
  "language_info": {
   "codemirror_mode": {
    "name": "ipython",
    "version": 3
   },
   "file_extension": ".py",
   "mimetype": "text/x-python",
   "name": "python",
   "nbconvert_exporter": "python",
   "pygments_lexer": "ipython3",
   "version": "3.9.7"
  }
 },
 "nbformat": 4,
 "nbformat_minor": 5
}
